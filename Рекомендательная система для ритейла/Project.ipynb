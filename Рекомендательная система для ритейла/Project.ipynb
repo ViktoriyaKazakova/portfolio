{
 "cells": [
  {
   "cell_type": "markdown",
   "metadata": {},
   "source": [
    "# Курсовая работа \"Рекомендательные системы\"\n"
   ]
  },
  {
   "cell_type": "code",
   "execution_count": 1,
   "metadata": {},
   "outputs": [],
   "source": [
    "import pandas as pd\n",
    "import numpy as np\n",
    "import matplotlib.pyplot as plt\n",
    "%matplotlib inline\n",
    "\n",
    "# Для работы с матрицами\n",
    "from scipy.sparse import csr_matrix\n",
    "\n",
    "# Матричная факторизация\n",
    "from implicit import als\n",
    "\n",
    "\n",
    "import os, sys\n",
    "module_path = os.path.abspath(os.path.join(os.pardir))\n",
    "if module_path not in sys.path:\n",
    "    sys.path.append(module_path)\n",
    "\n",
    "# Написанные нами функции\n",
    "from src.metrics import money_precision_at_k\n",
    "from src.utils import prefilter_items, get_prices, postfilter_items\n",
    "from src.recommenders import MainRecommender"
   ]
  },
  {
   "cell_type": "code",
   "execution_count": 2,
   "metadata": {},
   "outputs": [],
   "source": [
    "data = pd.read_csv('../Рекомендательные системы/retail_train.csv')\n",
    "item_features = pd.read_csv('../Рекомендательные системы/product.csv')\n",
    "test = pd.read_csv('../Рекомендательные системы/retail_test1.csv')"
   ]
  },
  {
   "cell_type": "code",
   "execution_count": 3,
   "metadata": {},
   "outputs": [],
   "source": [
    "# column processing\n",
    "item_features.columns = [col.lower() for col in item_features.columns]\n",
    "data.columns = [col.lower() for col in data.columns]\n",
    "\n",
    "item_features.rename(columns={'product_id': 'item_id'}, inplace=True)\n",
    "data.rename(columns={'household_key': 'user_id','product_id': 'item_id'},inplace=True)"
   ]
  },
  {
   "cell_type": "code",
   "execution_count": 4,
   "metadata": {},
   "outputs": [
    {
     "name": "stdout",
     "output_type": "stream",
     "text": [
      "Decreased # items from 89051 to 20001\n"
     ]
    }
   ],
   "source": [
    "n_items_before = data['item_id'].nunique()\n",
    "data = prefilter_items(data, take_n_popular=20000, item_features=item_features)\n",
    "data = data.merge(item_features, on='item_id', how='left')\n",
    "n_items_after = data['item_id'].nunique()\n",
    "print('Decreased # items from {} to {}'.format(n_items_before, n_items_after))"
   ]
  },
  {
   "cell_type": "code",
   "execution_count": 5,
   "metadata": {},
   "outputs": [],
   "source": [
    "test =  prefilter_items(test, take_n_popular=20000, item_features=item_features)\n",
    "test = test.merge(item_features, on='item_id', how='left')"
   ]
  },
  {
   "cell_type": "code",
   "execution_count": 6,
   "metadata": {},
   "outputs": [],
   "source": [
    "test_size_weeks = 3\n",
    "\n",
    "data_train = data[data['week_no'] < data['week_no'].max() - test_size_weeks]\n",
    "data_valid = data[data['week_no'] >= data['week_no'].max() - test_size_weeks]"
   ]
  },
  {
   "cell_type": "code",
   "execution_count": 7,
   "metadata": {},
   "outputs": [
    {
     "name": "stderr",
     "output_type": "stream",
     "text": [
      "WARNING:root:Intel MKL BLAS detected. Its highly recommend to set the environment variable 'export MKL_NUM_THREADS=1' to disable its internal multithreading\n"
     ]
    },
    {
     "data": {
      "application/vnd.jupyter.widget-view+json": {
       "model_id": "2f79e3a9630b48c3ae55067de8104332",
       "version_major": 2,
       "version_minor": 0
      },
      "text/plain": [
       "HBox(children=(FloatProgress(value=0.0, max=15.0), HTML(value='')))"
      ]
     },
     "metadata": {},
     "output_type": "display_data"
    },
    {
     "name": "stdout",
     "output_type": "stream",
     "text": [
      "\n"
     ]
    },
    {
     "data": {
      "application/vnd.jupyter.widget-view+json": {
       "model_id": "f740fb0509fc4446bd86420dad61ce31",
       "version_major": 2,
       "version_minor": 0
      },
      "text/plain": [
       "HBox(children=(FloatProgress(value=0.0, max=19998.0), HTML(value='')))"
      ]
     },
     "metadata": {},
     "output_type": "display_data"
    },
    {
     "name": "stdout",
     "output_type": "stream",
     "text": [
      "\n"
     ]
    },
    {
     "data": {
      "application/vnd.jupyter.widget-view+json": {
       "model_id": "3960d0d3687d4aa9b6994033e55fafed",
       "version_major": 2,
       "version_minor": 0
      },
      "text/plain": [
       "HBox(children=(FloatProgress(value=0.0, max=19998.0), HTML(value='')))"
      ]
     },
     "metadata": {},
     "output_type": "display_data"
    },
    {
     "name": "stdout",
     "output_type": "stream",
     "text": [
      "\n"
     ]
    },
    {
     "data": {
      "application/vnd.jupyter.widget-view+json": {
       "model_id": "a1cf934ebf6e49a6bbe4c7006ed5a929",
       "version_major": 2,
       "version_minor": 0
      },
      "text/plain": [
       "HBox(children=(FloatProgress(value=0.0, max=19998.0), HTML(value='')))"
      ]
     },
     "metadata": {},
     "output_type": "display_data"
    },
    {
     "name": "stdout",
     "output_type": "stream",
     "text": [
      "\n"
     ]
    }
   ],
   "source": [
    "recommender = MainRecommender(data_train)"
   ]
  },
  {
   "cell_type": "code",
   "execution_count": 8,
   "metadata": {},
   "outputs": [
    {
     "data": {
      "text/html": [
       "<div>\n",
       "<style scoped>\n",
       "    .dataframe tbody tr th:only-of-type {\n",
       "        vertical-align: middle;\n",
       "    }\n",
       "\n",
       "    .dataframe tbody tr th {\n",
       "        vertical-align: top;\n",
       "    }\n",
       "\n",
       "    .dataframe thead th {\n",
       "        text-align: right;\n",
       "    }\n",
       "</style>\n",
       "<table border=\"1\" class=\"dataframe\">\n",
       "  <thead>\n",
       "    <tr style=\"text-align: right;\">\n",
       "      <th></th>\n",
       "      <th>user_id</th>\n",
       "      <th>actual</th>\n",
       "    </tr>\n",
       "  </thead>\n",
       "  <tbody>\n",
       "    <tr>\n",
       "      <th>0</th>\n",
       "      <td>1</td>\n",
       "      <td>[856942, 865456, 889248, 907957, 914190, 94331...</td>\n",
       "    </tr>\n",
       "    <tr>\n",
       "      <th>1</th>\n",
       "      <td>3</td>\n",
       "      <td>[835476, 872021, 909638, 920626, 958154, 10536...</td>\n",
       "    </tr>\n",
       "  </tbody>\n",
       "</table>\n",
       "</div>"
      ],
      "text/plain": [
       "   user_id                                             actual\n",
       "0        1  [856942, 865456, 889248, 907957, 914190, 94331...\n",
       "1        3  [835476, 872021, 909638, 920626, 958154, 10536..."
      ]
     },
     "execution_count": 8,
     "metadata": {},
     "output_type": "execute_result"
    }
   ],
   "source": [
    "result = data_valid.groupby('user_id')['item_id'].unique().reset_index()\n",
    "result.columns=['user_id', 'actual']\n",
    "result.head(2)"
   ]
  },
  {
   "cell_type": "code",
   "execution_count": 9,
   "metadata": {},
   "outputs": [],
   "source": [
    "result['bm25'] = result['user_id'].apply(lambda x: recommender.get_bm25_recommendations(x, N=200))"
   ]
  },
  {
   "cell_type": "code",
   "execution_count": 10,
   "metadata": {},
   "outputs": [
    {
     "data": {
      "text/html": [
       "<div>\n",
       "<style scoped>\n",
       "    .dataframe tbody tr th:only-of-type {\n",
       "        vertical-align: middle;\n",
       "    }\n",
       "\n",
       "    .dataframe tbody tr th {\n",
       "        vertical-align: top;\n",
       "    }\n",
       "\n",
       "    .dataframe thead th {\n",
       "        text-align: right;\n",
       "    }\n",
       "</style>\n",
       "<table border=\"1\" class=\"dataframe\">\n",
       "  <thead>\n",
       "    <tr style=\"text-align: right;\">\n",
       "      <th></th>\n",
       "      <th>user_id</th>\n",
       "      <th>actual</th>\n",
       "      <th>bm25</th>\n",
       "    </tr>\n",
       "  </thead>\n",
       "  <tbody>\n",
       "    <tr>\n",
       "      <th>0</th>\n",
       "      <td>1</td>\n",
       "      <td>[856942, 865456, 889248, 907957, 914190, 94331...</td>\n",
       "      <td>[5577022, 9297615, 856942, 1049998, 1074612, 1...</td>\n",
       "    </tr>\n",
       "    <tr>\n",
       "      <th>1</th>\n",
       "      <td>3</td>\n",
       "      <td>[835476, 872021, 909638, 920626, 958154, 10536...</td>\n",
       "      <td>[1044078, 835476, 9337581, 998206, 9337369, 10...</td>\n",
       "    </tr>\n",
       "    <tr>\n",
       "      <th>2</th>\n",
       "      <td>6</td>\n",
       "      <td>[1006718, 1104227, 1108624, 1110392, 825541, 8...</td>\n",
       "      <td>[13003092, 1082185, 878996, 1041259, 1037863, ...</td>\n",
       "    </tr>\n",
       "    <tr>\n",
       "      <th>3</th>\n",
       "      <td>7</td>\n",
       "      <td>[840386, 898068, 909714, 993838, 1003188, 1056...</td>\n",
       "      <td>[6534406, 1086732, 6533878, 909611, 1072483, 1...</td>\n",
       "    </tr>\n",
       "    <tr>\n",
       "      <th>4</th>\n",
       "      <td>8</td>\n",
       "      <td>[835098, 872137, 910439, 924610, 992977, 55692...</td>\n",
       "      <td>[8181377, 1044078, 926808, 1105433, 1013503, 9...</td>\n",
       "    </tr>\n",
       "  </tbody>\n",
       "</table>\n",
       "</div>"
      ],
      "text/plain": [
       "   user_id                                             actual  \\\n",
       "0        1  [856942, 865456, 889248, 907957, 914190, 94331...   \n",
       "1        3  [835476, 872021, 909638, 920626, 958154, 10536...   \n",
       "2        6  [1006718, 1104227, 1108624, 1110392, 825541, 8...   \n",
       "3        7  [840386, 898068, 909714, 993838, 1003188, 1056...   \n",
       "4        8  [835098, 872137, 910439, 924610, 992977, 55692...   \n",
       "\n",
       "                                                bm25  \n",
       "0  [5577022, 9297615, 856942, 1049998, 1074612, 1...  \n",
       "1  [1044078, 835476, 9337581, 998206, 9337369, 10...  \n",
       "2  [13003092, 1082185, 878996, 1041259, 1037863, ...  \n",
       "3  [6534406, 1086732, 6533878, 909611, 1072483, 1...  \n",
       "4  [8181377, 1044078, 926808, 1105433, 1013503, 9...  "
      ]
     },
     "execution_count": 10,
     "metadata": {},
     "output_type": "execute_result"
    }
   ],
   "source": [
    "result.head()"
   ]
  },
  {
   "cell_type": "code",
   "execution_count": 11,
   "metadata": {},
   "outputs": [],
   "source": [
    "result['final'] = result.apply(lambda row: postfilter(row['bm25'], data), axis=1)"
   ]
  },
  {
   "cell_type": "code",
   "execution_count": 12,
   "metadata": {},
   "outputs": [
    {
     "data": {
      "text/html": [
       "<div>\n",
       "<style scoped>\n",
       "    .dataframe tbody tr th:only-of-type {\n",
       "        vertical-align: middle;\n",
       "    }\n",
       "\n",
       "    .dataframe tbody tr th {\n",
       "        vertical-align: top;\n",
       "    }\n",
       "\n",
       "    .dataframe thead th {\n",
       "        text-align: right;\n",
       "    }\n",
       "</style>\n",
       "<table border=\"1\" class=\"dataframe\">\n",
       "  <thead>\n",
       "    <tr style=\"text-align: right;\">\n",
       "      <th></th>\n",
       "      <th>user_id</th>\n",
       "      <th>actual</th>\n",
       "      <th>bm25</th>\n",
       "      <th>final</th>\n",
       "    </tr>\n",
       "  </thead>\n",
       "  <tbody>\n",
       "    <tr>\n",
       "      <th>0</th>\n",
       "      <td>1</td>\n",
       "      <td>[856942, 865456, 889248, 907957, 914190, 94331...</td>\n",
       "      <td>[5577022, 9297615, 856942, 1049998, 1074612, 1...</td>\n",
       "      <td>[5577022, 856942, 1049998, 1074612, 1075074]</td>\n",
       "    </tr>\n",
       "    <tr>\n",
       "      <th>1</th>\n",
       "      <td>3</td>\n",
       "      <td>[835476, 872021, 909638, 920626, 958154, 10536...</td>\n",
       "      <td>[1044078, 835476, 9337581, 998206, 9337369, 10...</td>\n",
       "      <td>[1044078, 835476, 9337581, 998206, 9337369]</td>\n",
       "    </tr>\n",
       "    <tr>\n",
       "      <th>2</th>\n",
       "      <td>6</td>\n",
       "      <td>[1006718, 1104227, 1108624, 1110392, 825541, 8...</td>\n",
       "      <td>[13003092, 1082185, 878996, 1041259, 1037863, ...</td>\n",
       "      <td>[13003092, 1082185, 878996, 1041259, 1037863]</td>\n",
       "    </tr>\n",
       "    <tr>\n",
       "      <th>3</th>\n",
       "      <td>7</td>\n",
       "      <td>[840386, 898068, 909714, 993838, 1003188, 1056...</td>\n",
       "      <td>[6534406, 1086732, 6533878, 909611, 1072483, 1...</td>\n",
       "      <td>[6534406, 1086732, 1072483, 989221, 7147142]</td>\n",
       "    </tr>\n",
       "    <tr>\n",
       "      <th>4</th>\n",
       "      <td>8</td>\n",
       "      <td>[835098, 872137, 910439, 924610, 992977, 55692...</td>\n",
       "      <td>[8181377, 1044078, 926808, 1105433, 1013503, 9...</td>\n",
       "      <td>[8181377, 1044078, 926808, 1105433, 1013503]</td>\n",
       "    </tr>\n",
       "  </tbody>\n",
       "</table>\n",
       "</div>"
      ],
      "text/plain": [
       "   user_id                                             actual  \\\n",
       "0        1  [856942, 865456, 889248, 907957, 914190, 94331...   \n",
       "1        3  [835476, 872021, 909638, 920626, 958154, 10536...   \n",
       "2        6  [1006718, 1104227, 1108624, 1110392, 825541, 8...   \n",
       "3        7  [840386, 898068, 909714, 993838, 1003188, 1056...   \n",
       "4        8  [835098, 872137, 910439, 924610, 992977, 55692...   \n",
       "\n",
       "                                                bm25  \\\n",
       "0  [5577022, 9297615, 856942, 1049998, 1074612, 1...   \n",
       "1  [1044078, 835476, 9337581, 998206, 9337369, 10...   \n",
       "2  [13003092, 1082185, 878996, 1041259, 1037863, ...   \n",
       "3  [6534406, 1086732, 6533878, 909611, 1072483, 1...   \n",
       "4  [8181377, 1044078, 926808, 1105433, 1013503, 9...   \n",
       "\n",
       "                                           final  \n",
       "0   [5577022, 856942, 1049998, 1074612, 1075074]  \n",
       "1    [1044078, 835476, 9337581, 998206, 9337369]  \n",
       "2  [13003092, 1082185, 878996, 1041259, 1037863]  \n",
       "3   [6534406, 1086732, 1072483, 989221, 7147142]  \n",
       "4   [8181377, 1044078, 926808, 1105433, 1013503]  "
      ]
     },
     "execution_count": 12,
     "metadata": {},
     "output_type": "execute_result"
    }
   ],
   "source": [
    "result.head()"
   ]
  },
  {
   "cell_type": "code",
   "execution_count": 13,
   "metadata": {},
   "outputs": [],
   "source": [
    "result['price'] = result['final'].apply(lambda x: get_prices(x, data))"
   ]
  },
  {
   "cell_type": "code",
   "execution_count": 14,
   "metadata": {},
   "outputs": [
    {
     "data": {
      "text/html": [
       "<div>\n",
       "<style scoped>\n",
       "    .dataframe tbody tr th:only-of-type {\n",
       "        vertical-align: middle;\n",
       "    }\n",
       "\n",
       "    .dataframe tbody tr th {\n",
       "        vertical-align: top;\n",
       "    }\n",
       "\n",
       "    .dataframe thead th {\n",
       "        text-align: right;\n",
       "    }\n",
       "</style>\n",
       "<table border=\"1\" class=\"dataframe\">\n",
       "  <thead>\n",
       "    <tr style=\"text-align: right;\">\n",
       "      <th></th>\n",
       "      <th>user_id</th>\n",
       "      <th>actual</th>\n",
       "      <th>bm25</th>\n",
       "      <th>final</th>\n",
       "      <th>price</th>\n",
       "    </tr>\n",
       "  </thead>\n",
       "  <tbody>\n",
       "    <tr>\n",
       "      <th>0</th>\n",
       "      <td>1</td>\n",
       "      <td>[856942, 865456, 889248, 907957, 914190, 94331...</td>\n",
       "      <td>[5577022, 9297615, 856942, 1049998, 1074612, 1...</td>\n",
       "      <td>[5577022, 856942, 1049998, 1074612, 1075074]</td>\n",
       "      <td>[2.7554571428571433, 2.7999644128113887, 1.843...</td>\n",
       "    </tr>\n",
       "    <tr>\n",
       "      <th>1</th>\n",
       "      <td>3</td>\n",
       "      <td>[835476, 872021, 909638, 920626, 958154, 10536...</td>\n",
       "      <td>[1044078, 835476, 9337581, 998206, 9337369, 10...</td>\n",
       "      <td>[1044078, 835476, 9337581, 998206, 9337369]</td>\n",
       "      <td>[3.244310160832738, 1.794201388888889, 1.08942...</td>\n",
       "    </tr>\n",
       "    <tr>\n",
       "      <th>2</th>\n",
       "      <td>6</td>\n",
       "      <td>[1006718, 1104227, 1108624, 1110392, 825541, 8...</td>\n",
       "      <td>[13003092, 1082185, 878996, 1041259, 1037863, ...</td>\n",
       "      <td>[13003092, 1082185, 878996, 1041259, 1037863]</td>\n",
       "      <td>[4.659296482412061, 1.3360895793355156, 2.9515...</td>\n",
       "    </tr>\n",
       "    <tr>\n",
       "      <th>3</th>\n",
       "      <td>7</td>\n",
       "      <td>[840386, 898068, 909714, 993838, 1003188, 1056...</td>\n",
       "      <td>[6534406, 1086732, 6533878, 909611, 1072483, 1...</td>\n",
       "      <td>[6534406, 1086732, 1072483, 989221, 7147142]</td>\n",
       "      <td>[2.0150526315789477, 1.828918918918919, 1.2356...</td>\n",
       "    </tr>\n",
       "    <tr>\n",
       "      <th>4</th>\n",
       "      <td>8</td>\n",
       "      <td>[835098, 872137, 910439, 924610, 992977, 55692...</td>\n",
       "      <td>[8181377, 1044078, 926808, 1105433, 1013503, 9...</td>\n",
       "      <td>[8181377, 1044078, 926808, 1105433, 1013503]</td>\n",
       "      <td>[1.2386746987951807, 3.244310160832738, 2.6381...</td>\n",
       "    </tr>\n",
       "  </tbody>\n",
       "</table>\n",
       "</div>"
      ],
      "text/plain": [
       "   user_id                                             actual  \\\n",
       "0        1  [856942, 865456, 889248, 907957, 914190, 94331...   \n",
       "1        3  [835476, 872021, 909638, 920626, 958154, 10536...   \n",
       "2        6  [1006718, 1104227, 1108624, 1110392, 825541, 8...   \n",
       "3        7  [840386, 898068, 909714, 993838, 1003188, 1056...   \n",
       "4        8  [835098, 872137, 910439, 924610, 992977, 55692...   \n",
       "\n",
       "                                                bm25  \\\n",
       "0  [5577022, 9297615, 856942, 1049998, 1074612, 1...   \n",
       "1  [1044078, 835476, 9337581, 998206, 9337369, 10...   \n",
       "2  [13003092, 1082185, 878996, 1041259, 1037863, ...   \n",
       "3  [6534406, 1086732, 6533878, 909611, 1072483, 1...   \n",
       "4  [8181377, 1044078, 926808, 1105433, 1013503, 9...   \n",
       "\n",
       "                                           final  \\\n",
       "0   [5577022, 856942, 1049998, 1074612, 1075074]   \n",
       "1    [1044078, 835476, 9337581, 998206, 9337369]   \n",
       "2  [13003092, 1082185, 878996, 1041259, 1037863]   \n",
       "3   [6534406, 1086732, 1072483, 989221, 7147142]   \n",
       "4   [8181377, 1044078, 926808, 1105433, 1013503]   \n",
       "\n",
       "                                               price  \n",
       "0  [2.7554571428571433, 2.7999644128113887, 1.843...  \n",
       "1  [3.244310160832738, 1.794201388888889, 1.08942...  \n",
       "2  [4.659296482412061, 1.3360895793355156, 2.9515...  \n",
       "3  [2.0150526315789477, 1.828918918918919, 1.2356...  \n",
       "4  [1.2386746987951807, 3.244310160832738, 2.6381...  "
      ]
     },
     "execution_count": 14,
     "metadata": {},
     "output_type": "execute_result"
    }
   ],
   "source": [
    "result.head()"
   ]
  },
  {
   "cell_type": "code",
   "execution_count": 15,
   "metadata": {},
   "outputs": [
    {
     "data": {
      "text/plain": [
       "0.207271332869401"
      ]
     },
     "execution_count": 15,
     "metadata": {},
     "output_type": "execute_result"
    }
   ],
   "source": [
    "result.apply(lambda row: money_precision_at_k(row['final'], row['actual'], row['price'], 5), axis=1).mean()"
   ]
  },
  {
   "cell_type": "code",
   "execution_count": 16,
   "metadata": {},
   "outputs": [
    {
     "data": {
      "text/html": [
       "<div>\n",
       "<style scoped>\n",
       "    .dataframe tbody tr th:only-of-type {\n",
       "        vertical-align: middle;\n",
       "    }\n",
       "\n",
       "    .dataframe tbody tr th {\n",
       "        vertical-align: top;\n",
       "    }\n",
       "\n",
       "    .dataframe thead th {\n",
       "        text-align: right;\n",
       "    }\n",
       "</style>\n",
       "<table border=\"1\" class=\"dataframe\">\n",
       "  <thead>\n",
       "    <tr style=\"text-align: right;\">\n",
       "      <th></th>\n",
       "      <th>user_id</th>\n",
       "      <th>actual</th>\n",
       "    </tr>\n",
       "  </thead>\n",
       "  <tbody>\n",
       "    <tr>\n",
       "      <th>0</th>\n",
       "      <td>1</td>\n",
       "      <td>[880007, 883616, 931136, 938004, 940947, 94726...</td>\n",
       "    </tr>\n",
       "    <tr>\n",
       "      <th>1</th>\n",
       "      <td>2</td>\n",
       "      <td>[820291, 826784, 826835, 829009, 866211, 87060...</td>\n",
       "    </tr>\n",
       "  </tbody>\n",
       "</table>\n",
       "</div>"
      ],
      "text/plain": [
       "   user_id                                             actual\n",
       "0        1  [880007, 883616, 931136, 938004, 940947, 94726...\n",
       "1        2  [820291, 826784, 826835, 829009, 866211, 87060..."
      ]
     },
     "execution_count": 16,
     "metadata": {},
     "output_type": "execute_result"
    }
   ],
   "source": [
    "result_final = test.groupby('user_id')['item_id'].unique().reset_index()\n",
    "result_final.columns=['user_id', 'actual']\n",
    "result_final.head(2)"
   ]
  },
  {
   "cell_type": "code",
   "execution_count": 17,
   "metadata": {},
   "outputs": [],
   "source": [
    "result_final['bm25'] = result_final['user_id'].apply(lambda x: recommender.get_bm25_recommendations(x, N=200))"
   ]
  },
  {
   "cell_type": "code",
   "execution_count": 18,
   "metadata": {},
   "outputs": [
    {
     "data": {
      "text/html": [
       "<div>\n",
       "<style scoped>\n",
       "    .dataframe tbody tr th:only-of-type {\n",
       "        vertical-align: middle;\n",
       "    }\n",
       "\n",
       "    .dataframe tbody tr th {\n",
       "        vertical-align: top;\n",
       "    }\n",
       "\n",
       "    .dataframe thead th {\n",
       "        text-align: right;\n",
       "    }\n",
       "</style>\n",
       "<table border=\"1\" class=\"dataframe\">\n",
       "  <thead>\n",
       "    <tr style=\"text-align: right;\">\n",
       "      <th></th>\n",
       "      <th>user_id</th>\n",
       "      <th>actual</th>\n",
       "      <th>bm25</th>\n",
       "    </tr>\n",
       "  </thead>\n",
       "  <tbody>\n",
       "    <tr>\n",
       "      <th>0</th>\n",
       "      <td>1</td>\n",
       "      <td>[880007, 883616, 931136, 938004, 940947, 94726...</td>\n",
       "      <td>[5577022, 9297615, 856942, 1049998, 1074612, 1...</td>\n",
       "    </tr>\n",
       "    <tr>\n",
       "      <th>1</th>\n",
       "      <td>2</td>\n",
       "      <td>[820291, 826784, 826835, 829009, 866211, 87060...</td>\n",
       "      <td>[978332, 1113780, 826784, 1103898, 831125, 970...</td>\n",
       "    </tr>\n",
       "  </tbody>\n",
       "</table>\n",
       "</div>"
      ],
      "text/plain": [
       "   user_id                                             actual  \\\n",
       "0        1  [880007, 883616, 931136, 938004, 940947, 94726...   \n",
       "1        2  [820291, 826784, 826835, 829009, 866211, 87060...   \n",
       "\n",
       "                                                bm25  \n",
       "0  [5577022, 9297615, 856942, 1049998, 1074612, 1...  \n",
       "1  [978332, 1113780, 826784, 1103898, 831125, 970...  "
      ]
     },
     "execution_count": 18,
     "metadata": {},
     "output_type": "execute_result"
    }
   ],
   "source": [
    "result_final.head(2)"
   ]
  },
  {
   "cell_type": "code",
   "execution_count": 19,
   "metadata": {},
   "outputs": [],
   "source": [
    "result_final['rec'] = result_final.apply(lambda row: postfilter_items(row['bm25'], data), axis=1)"
   ]
  },
  {
   "cell_type": "code",
   "execution_count": 20,
   "metadata": {},
   "outputs": [
    {
     "data": {
      "text/html": [
       "<div>\n",
       "<style scoped>\n",
       "    .dataframe tbody tr th:only-of-type {\n",
       "        vertical-align: middle;\n",
       "    }\n",
       "\n",
       "    .dataframe tbody tr th {\n",
       "        vertical-align: top;\n",
       "    }\n",
       "\n",
       "    .dataframe thead th {\n",
       "        text-align: right;\n",
       "    }\n",
       "</style>\n",
       "<table border=\"1\" class=\"dataframe\">\n",
       "  <thead>\n",
       "    <tr style=\"text-align: right;\">\n",
       "      <th></th>\n",
       "      <th>user_id</th>\n",
       "      <th>actual</th>\n",
       "      <th>bm25</th>\n",
       "      <th>rec</th>\n",
       "    </tr>\n",
       "  </thead>\n",
       "  <tbody>\n",
       "    <tr>\n",
       "      <th>0</th>\n",
       "      <td>1</td>\n",
       "      <td>[880007, 883616, 931136, 938004, 940947, 94726...</td>\n",
       "      <td>[5577022, 9297615, 856942, 1049998, 1074612, 1...</td>\n",
       "      <td>[5577022, 856942, 1049998, 1074612, 1075074]</td>\n",
       "    </tr>\n",
       "    <tr>\n",
       "      <th>1</th>\n",
       "      <td>2</td>\n",
       "      <td>[820291, 826784, 826835, 829009, 866211, 87060...</td>\n",
       "      <td>[978332, 1113780, 826784, 1103898, 831125, 970...</td>\n",
       "      <td>[978332, 1113780, 826784, 1103898, 831125]</td>\n",
       "    </tr>\n",
       "  </tbody>\n",
       "</table>\n",
       "</div>"
      ],
      "text/plain": [
       "   user_id                                             actual  \\\n",
       "0        1  [880007, 883616, 931136, 938004, 940947, 94726...   \n",
       "1        2  [820291, 826784, 826835, 829009, 866211, 87060...   \n",
       "\n",
       "                                                bm25  \\\n",
       "0  [5577022, 9297615, 856942, 1049998, 1074612, 1...   \n",
       "1  [978332, 1113780, 826784, 1103898, 831125, 970...   \n",
       "\n",
       "                                            rec  \n",
       "0  [5577022, 856942, 1049998, 1074612, 1075074]  \n",
       "1    [978332, 1113780, 826784, 1103898, 831125]  "
      ]
     },
     "execution_count": 20,
     "metadata": {},
     "output_type": "execute_result"
    }
   ],
   "source": [
    "result_final.head(2)"
   ]
  },
  {
   "cell_type": "code",
   "execution_count": 21,
   "metadata": {},
   "outputs": [],
   "source": [
    "prod = result_final[['user_id', 'rec']]"
   ]
  },
  {
   "cell_type": "code",
   "execution_count": 22,
   "metadata": {},
   "outputs": [],
   "source": [
    "prod.to_csv('recommendations.csv', index=False)"
   ]
  }
 ],
 "metadata": {
  "kernelspec": {
   "display_name": "Python 3",
   "language": "python",
   "name": "python3"
  },
  "language_info": {
   "codemirror_mode": {
    "name": "ipython",
    "version": 3
   },
   "file_extension": ".py",
   "mimetype": "text/x-python",
   "name": "python",
   "nbconvert_exporter": "python",
   "pygments_lexer": "ipython3",
   "version": "3.7.6"
  }
 },
 "nbformat": 4,
 "nbformat_minor": 2
}
